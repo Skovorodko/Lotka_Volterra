{
 "cells": [
  {
   "cell_type": "code",
   "execution_count": 1,
   "id": "9bb8adfb",
   "metadata": {},
   "outputs": [
    {
     "name": "stdout",
     "output_type": "stream",
     "text": [
      "Requirement already satisfied: pysd==1.4.0 in /Users/alexanderskovorodko/opt/anaconda3/lib/python3.8/site-packages (1.4.0)\n",
      "Requirement already satisfied: pydoe in /Users/alexanderskovorodko/opt/anaconda3/lib/python3.8/site-packages (from pysd==1.4.0) (0.3.8)\n",
      "Requirement already satisfied: pandas in /Users/alexanderskovorodko/opt/anaconda3/lib/python3.8/site-packages (from pysd==1.4.0) (1.3.3)\n",
      "Requirement already satisfied: xarray in /Users/alexanderskovorodko/opt/anaconda3/lib/python3.8/site-packages (from pysd==1.4.0) (0.21.1)\n",
      "Requirement already satisfied: black in /Users/alexanderskovorodko/opt/anaconda3/lib/python3.8/site-packages (from pysd==1.4.0) (22.1.0)\n",
      "Requirement already satisfied: funcsigs in /Users/alexanderskovorodko/opt/anaconda3/lib/python3.8/site-packages (from pysd==1.4.0) (1.0.2)\n",
      "Requirement already satisfied: numpy in /Users/alexanderskovorodko/opt/anaconda3/lib/python3.8/site-packages (from pysd==1.4.0) (1.22.2)\n",
      "Requirement already satisfied: xlrd in /Users/alexanderskovorodko/opt/anaconda3/lib/python3.8/site-packages (from pysd==1.4.0) (2.0.1)\n",
      "Requirement already satisfied: xlwt==1.2.0 in /Users/alexanderskovorodko/opt/anaconda3/lib/python3.8/site-packages (from pysd==1.4.0) (1.2.0)\n",
      "Requirement already satisfied: parsimonious in /Users/alexanderskovorodko/opt/anaconda3/lib/python3.8/site-packages (from pysd==1.4.0) (0.8.1)\n",
      "Requirement already satisfied: openpyxl in /Users/alexanderskovorodko/opt/anaconda3/lib/python3.8/site-packages (from pysd==1.4.0) (3.0.8)\n",
      "Requirement already satisfied: chardet in /Users/alexanderskovorodko/opt/anaconda3/lib/python3.8/site-packages (from pysd==1.4.0) (4.0.0)\n",
      "Requirement already satisfied: regex in /Users/alexanderskovorodko/opt/anaconda3/lib/python3.8/site-packages (from pysd==1.4.0) (2021.11.1)\n",
      "Requirement already satisfied: lxml in /Users/alexanderskovorodko/opt/anaconda3/lib/python3.8/site-packages (from pysd==1.4.0) (4.7.1)\n",
      "Requirement already satisfied: typing-extensions>=3.10.0.0 in /Users/alexanderskovorodko/opt/anaconda3/lib/python3.8/site-packages (from black->pysd==1.4.0) (3.10.0.2)\n",
      "Requirement already satisfied: platformdirs>=2 in /Users/alexanderskovorodko/opt/anaconda3/lib/python3.8/site-packages (from black->pysd==1.4.0) (2.4.0)\n",
      "Requirement already satisfied: click>=8.0.0 in /Users/alexanderskovorodko/opt/anaconda3/lib/python3.8/site-packages (from black->pysd==1.4.0) (8.0.1)\n",
      "Requirement already satisfied: mypy-extensions>=0.4.3 in /Users/alexanderskovorodko/opt/anaconda3/lib/python3.8/site-packages (from black->pysd==1.4.0) (0.4.3)\n",
      "Requirement already satisfied: pathspec>=0.9.0 in /Users/alexanderskovorodko/opt/anaconda3/lib/python3.8/site-packages (from black->pysd==1.4.0) (0.9.0)\n",
      "Requirement already satisfied: tomli>=1.1.0 in /Users/alexanderskovorodko/opt/anaconda3/lib/python3.8/site-packages (from black->pysd==1.4.0) (2.0.1)\n",
      "Requirement already satisfied: et-xmlfile in /Users/alexanderskovorodko/opt/anaconda3/lib/python3.8/site-packages (from openpyxl->pysd==1.4.0) (1.1.0)\n",
      "Requirement already satisfied: pytz>=2017.3 in /Users/alexanderskovorodko/opt/anaconda3/lib/python3.8/site-packages (from pandas->pysd==1.4.0) (2021.1)\n",
      "Requirement already satisfied: python-dateutil>=2.7.3 in /Users/alexanderskovorodko/opt/anaconda3/lib/python3.8/site-packages (from pandas->pysd==1.4.0) (2.8.2)\n",
      "Requirement already satisfied: six>=1.5 in /Users/alexanderskovorodko/opt/anaconda3/lib/python3.8/site-packages (from python-dateutil>=2.7.3->pandas->pysd==1.4.0) (1.16.0)\n",
      "Requirement already satisfied: scipy in /Users/alexanderskovorodko/opt/anaconda3/lib/python3.8/site-packages (from pydoe->pysd==1.4.0) (1.7.1)\n",
      "Requirement already satisfied: packaging>=20.0 in /Users/alexanderskovorodko/opt/anaconda3/lib/python3.8/site-packages (from xarray->pysd==1.4.0) (21.3)\n",
      "Requirement already satisfied: pyparsing!=3.0.5,>=2.0.2 in /Users/alexanderskovorodko/opt/anaconda3/lib/python3.8/site-packages (from packaging>=20.0->xarray->pysd==1.4.0) (2.4.7)\n"
     ]
    }
   ],
   "source": [
    "%matplotlib inline\n",
    "import pysd\n",
    "import matplotlib.pyplot as plt\n",
    "!pip install -U pysd==1.4.0"
   ]
  },
  {
   "cell_type": "markdown",
   "id": "ca4e8feb",
   "metadata": {},
   "source": [
    "## Модель Хищник-Жертва"
   ]
  },
  {
   "cell_type": "markdown",
   "id": "fa6d67e2",
   "metadata": {},
   "source": [
    "### Загрузка стартовой модели"
   ]
  },
  {
   "cell_type": "code",
   "execution_count": 3,
   "id": "fc922822",
   "metadata": {},
   "outputs": [],
   "source": [
    "model = pysd.load('Lotka_Volterra.py')"
   ]
  },
  {
   "cell_type": "code",
   "execution_count": 4,
   "id": "d4a71276",
   "metadata": {},
   "outputs": [],
   "source": [
    "output = model.run(return_columns=['Lynx', 'Hare'])\n",
    "output['Lynx'] = output['Lynx']*100"
   ]
  },
  {
   "cell_type": "code",
   "execution_count": 5,
   "id": "d8383268",
   "metadata": {},
   "outputs": [
    {
     "data": {
      "image/png": "[encoded data removed]",
      "text/plain": [
       "<Figure size 432x288 with 1 Axes>"
      ]
     },
     "metadata": {
      "needs_background": "light"
     },
     "output_type": "display_data"
    }
   ],
   "source": [
    "output.plot()\n",
    "plt.show()"
   ]
  },
  {
   "cell_type": "markdown",
   "id": "83a67160",
   "metadata": {},
   "source": [
    "## Классическая модель системной динамики, изучающая взаимодействие популяций рысей и зайцев в ограниченном пространстве"
   ]
  },
  {
   "cell_type": "markdown",
   "id": "5b5505f4",
   "metadata": {},
   "source": [
    "### Задание (выполнять в отдельном .py и .ipynb файлах)\n",
    "\n",
    "Реализовать дополнительно следующую логику:\n",
    "1. Добавьте фактор человека, который охотиться как на зайцев, так и на рысей прямо пропорционально размерам их популяции (соответствующие коэффициенты $q_1$ и $q_2$ являются параметрами модели).\n",
    "2. Добавьте популяцию волков, охотящихся и на рысей, и на зайцев, со своей естественной рождаемостью (константный коэффициент) и смертностью, зависящей от суммарной популяции рысей и зайцев (соответствующую табличную функцию задать самостоятельно).\n",
    "3. Добавьте рысям возможность питаться естественно умершими волками (принцип падальщика). Соответствующий коэффициент $r$ сделайте параметром модели.\n",
    "\n",
    "Вывести графики популяции всех животных по времени (можно масштабировать данные), а также вычислить математическое ожидание и дисперсию числа рысей на 100-м шаге моделирования при варьировании параметрами $q_1$, $q_2$ от $0.01$ до $0.1$ и $r$ от $0.1$ до $0.2$."
   ]
  },
  {
   "cell_type": "code",
   "execution_count": null,
   "id": "9ea0bd74",
   "metadata": {},
   "outputs": [],
   "source": []
  }
 ],
 "metadata": {
  "kernelspec": {
   "display_name": "Python 3 (ipykernel)",
   "language": "python",
   "name": "python3"
  },
  "language_info": {
   "codemirror_mode": {
    "name": "ipython",
    "version": 3
   },
   "file_extension": ".py",
   "mimetype": "text/x-python",
   "name": "python",
   "nbconvert_exporter": "python",
   "pygments_lexer": "ipython3",
   "version": "3.8.8"
  }
 },
 "nbformat": 4,
 "nbformat_minor": 5
}
